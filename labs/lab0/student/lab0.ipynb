{
 "cells": [
  {
   "cell_type": "code",
   "execution_count": 44,
   "metadata": {
    "deletable": false,
    "editable": false
   },
   "outputs": [],
   "source": [
    "# Initialize Otter\n",
    "import otter\n",
    "grader = otter.Notebook(\"lab0.ipynb\")"
   ]
  },
  {
   "cell_type": "markdown",
   "metadata": {},
   "source": [
    "**Note: this lab notebook will not count toward your grade, but it is designed to give you a full understanding of how the graders work for this class**\n",
    "\n",
    "# Otter grader and Gradescope\n",
    "\n",
    "This notebook explains outputs of Otter grader (in your notebook) and Gradescope.  \n",
    "\n",
    "Suppose the question is \n",
    "> What is the smallest prime number? Assign it to variable `x`.\n",
    "\n",
    "The correct answer would be `x = 2`."
   ]
  },
  {
   "cell_type": "markdown",
   "metadata": {},
   "source": [
    "## Anatomy of Questions"
   ]
  },
  {
   "cell_type": "markdown",
   "metadata": {},
   "source": [
    "### What are \"tests\"?\n",
    "Conceptually, built-in tests executes pieces of code to test the variables you created in response to the questions. \n",
    "\n",
    "Some examples tests could be, \n",
    "\n",
    "1. Test code: `isinstance(x, int)`  \n",
    "    Expected result: `True`\n",
    "2. Test code: `0 < x < 100`  \n",
    "    Expected result: `True`\n",
    "3. Test code: `print(x)`  \n",
    "    Expected result: `2`\n",
    "    \n",
    "In your notebook, tests such as these are executed to evaluate your grade. Below, the outputs in your notebook and Gradescope are explained in detail."
   ]
  },
  {
   "cell_type": "markdown",
   "metadata": {},
   "source": [
    "### What are public vs. hidden tests?\n",
    "\n",
    "Any test can be set to public or hidden:  \n",
    "\n",
    "* Public tests: the test code and expected results are openly visible to you.\n",
    "* Hidden tests: the test code and expected results are hidden from you."
   ]
  },
  {
   "cell_type": "markdown",
   "metadata": {},
   "source": [
    "### What are unpublished vs. published grades?\n",
    "\n",
    "After we grade manual questions, they are published for you to take a look. Results of hidden tests are not shown to you until "
   ]
  },
  {
   "cell_type": "markdown",
   "metadata": {},
   "source": [
    "### Flow Diagram\n",
    "\n",
    "![grade flow diagram](images/grading-diagram.png)"
   ]
  },
  {
   "cell_type": "markdown",
   "metadata": {},
   "source": [
    "### Possible Outcomes\n",
    "\n",
    "| Response  | Any Visible Tests? | All VT correct? | Any Hidden Tests? | All HT correct? | Unpublished Points | Published Points |\n",
    "| --------  | ------------------ | --------------- | ----------------- | --------------- | ------------------ | ---------------- |\n",
    "|   11      | Yes                | Yes             | No                | -               | 2.1/2.1            | 2.1 + 0.9        |\n",
    "|   12      | Yes                | No              | No                | -               | 0.0/3.0            | 0.0              |\n",
    "|   21      | No                 | -               | Yes               | Yes             | 2.1/2.1            | 2.1 + 0.9        |\n",
    "|   22      | No                 | -               | Yes               | No              | 2.1/2.1            | 2.1 + 0.0        |\n",
    "|   31      | Yes                | Yes             | Yes               | Yes             | 2.1/2.1            | 2.1 + 0.9        |\n",
    "|   32      | Yes                | No              | Yes               | No              | 0.0/3.0            | 0.0              |\n",
    "|   33      | Yes                | Yes             | Yes               | No              | 2.1/2.1            | 2.1 + 0.0        |\n",
    "|   34      | Yes                | No              | Yes               | Yes             | 0.0/3.0            | 0.0              |\n",
    "| **Total** |                    |                 |                   |                 | **8.4**            | **13.2**         |\n"
   ]
  },
  {
   "cell_type": "markdown",
   "metadata": {},
   "source": [
    "### Gradescope output\n",
    "\n",
    "| Unpublished Output | Published Output |\n",
    "| ------------------ | ------------------ |\n",
    "| ![unpublished](images/gradescope-output-unpublished.png) |![published](images/gradescope-output-published.png) |"
   ]
  },
  {
   "cell_type": "markdown",
   "metadata": {},
   "source": [
    "## Example Question 1: Public Tests\n",
    "\n",
    "To make things simple, suppose the correct response to a question is this list\n",
    "> `y = list('ab')`\n",
    "\n",
    "Suppose following are the tests\n",
    "\n",
    "| Test code  | Expected result | Type                      |\n",
    "| -------    | -------         | --------                  |\n",
    "| `'a' in y` | `True`          | Public (visible to you)   |\n",
    "| `'b' in y` | `True`          | Public (visible to you)   |\n"
   ]
  },
  {
   "cell_type": "markdown",
   "metadata": {
    "deletable": false,
    "editable": false
   },
   "source": [
    "### Response 1: All Tests are Correct\n",
    "\n",
    "Because variables have to be unique, we will use `y11` for this problem (use exact variable name indicated or implied in the questions).\n",
    "\n",
    "| Test code    | Expected result | Actual result | Type                      |\n",
    "| -------      | -------         | -------         | --------                  |\n",
    "| `'a' in y11` | `True`          | `True`          | Public (visible to you)   |\n",
    "| `'b' in y11` | `True`          | `True`          | Public (visible to you)   |\n",
    "\n",
    "<!--\n",
    "BEGIN QUESTION\n",
    "name: q11\n",
    "manual: false\n",
    "points: 3\n",
    "-->"
   ]
  },
  {
   "cell_type": "code",
   "execution_count": 45,
   "metadata": {},
   "outputs": [],
   "source": [
    "y11 = list('ab') # student response"
   ]
  },
  {
   "cell_type": "code",
   "execution_count": 46,
   "metadata": {
    "deletable": false,
    "editable": false
   },
   "outputs": [
    {
     "data": {
      "text/html": [
       "\n",
       "    <p><strong>q11</strong> passed!</p>\n",
       "    "
      ],
      "text/plain": [
       "q11 passed!"
      ]
     },
     "execution_count": 46,
     "metadata": {},
     "output_type": "execute_result"
    }
   ],
   "source": [
    "grader.check(\"q11\")"
   ]
  },
  {
   "cell_type": "markdown",
   "metadata": {
    "deletable": false,
    "editable": false
   },
   "source": [
    "### Response 2: Tests are Partially Correct\n",
    "\n",
    "We will use `y12` for this problem\n",
    "\n",
    "| Test code    | Expected result | Actual result | Type                      |\n",
    "| -------      | -------         | -------         | --------                  |\n",
    "| `'a' in y12` | `True`          | `True`          | Public (visible to you)   |\n",
    "| `'b' in y12` | `True`          | `False`          | Public (visible to you)   |\n",
    "\n",
    "<!--\n",
    "BEGIN QUESTION\n",
    "name: q12\n",
    "manual: false\n",
    "points: 3\n",
    "-->"
   ]
  },
  {
   "cell_type": "code",
   "execution_count": 47,
   "metadata": {},
   "outputs": [],
   "source": [
    "y12 = list('a') # student response"
   ]
  },
  {
   "cell_type": "code",
   "execution_count": 48,
   "metadata": {
    "deletable": false,
    "editable": false
   },
   "outputs": [
    {
     "data": {
      "text/html": [
       "\n",
       "    <p><strong style='color: red;'>q12</strong></p>\n",
       "    <p><strong>Test result:</strong></p>\n",
       "    \n",
       "        <p><em>q12 - 1</em>\n",
       "        \n",
       "            <pre>Test case passed!</pre>\n",
       "        \n",
       "        </p>\n",
       "    \n",
       "        <p><em>q12 - 2</em>\n",
       "        \n",
       "            <pre>Trying:\n",
       "    'b' in y12\n",
       "Expecting:\n",
       "    True\n",
       "**********************************************************************\n",
       "Line 1, in q12 1\n",
       "Failed example:\n",
       "    'b' in y12\n",
       "Expected:\n",
       "    True\n",
       "Got:\n",
       "    False\n",
       "</pre>\n",
       "        \n",
       "        </p>\n",
       "    \n",
       "    "
      ],
      "text/plain": [
       "q12 results:\n",
       "\n",
       "Trying:\n",
       "    'b' in y12\n",
       "Expecting:\n",
       "    True\n",
       "**********************************************************************\n",
       "Line 1, in q12 1\n",
       "Failed example:\n",
       "    'b' in y12\n",
       "Expected:\n",
       "    True\n",
       "Got:\n",
       "    False"
      ]
     },
     "execution_count": 48,
     "metadata": {},
     "output_type": "execute_result"
    }
   ],
   "source": [
    "grader.check(\"q12\")"
   ]
  },
  {
   "cell_type": "markdown",
   "metadata": {},
   "source": [
    "## Example Question 2: Private Tests\n",
    "\n",
    "To make things simple, suppose the correct response to a question is this list\n",
    "> `y = list('ab')`\n",
    "\n",
    "Suppose following are the tests\n",
    "\n",
    "| Test code  | Expected result | Type                      |\n",
    "| -------    | -------         | --------                  |\n",
    "| `'a' in y` | `True`          | Private (hidden from you)   |\n",
    "| `'b' in y` | `True`          | Private (hidden from you)   |\n"
   ]
  },
  {
   "cell_type": "markdown",
   "metadata": {
    "deletable": false,
    "editable": false
   },
   "source": [
    "### Response 1: All Tests are Correct\n",
    "\n",
    "We will use `y21` for this problem \n",
    "\n",
    "| Test code    | Expected result | Actual result | Type                      |\n",
    "| -------      | -------         | -------         | --------                  |\n",
    "| `'a' in y21` | `True`          | `True`          | Private (hidden from you)   |\n",
    "| `'b' in y21` | `True`          | `True`          | Private (hidden from you)   |\n",
    "\n",
    "<!--\n",
    "BEGIN QUESTION\n",
    "name: q21\n",
    "manual: false\n",
    "points: 3\n",
    "-->"
   ]
  },
  {
   "cell_type": "code",
   "execution_count": 49,
   "metadata": {},
   "outputs": [],
   "source": [
    "y21 = list('ab') # student response"
   ]
  },
  {
   "cell_type": "code",
   "execution_count": 50,
   "metadata": {
    "deletable": false,
    "editable": false
   },
   "outputs": [
    {
     "data": {
      "text/html": [
       "\n",
       "    <p><strong>q21</strong> passed!</p>\n",
       "    "
      ],
      "text/plain": [
       "q21 passed!"
      ]
     },
     "execution_count": 50,
     "metadata": {},
     "output_type": "execute_result"
    }
   ],
   "source": [
    "grader.check(\"q21\")"
   ]
  },
  {
   "cell_type": "markdown",
   "metadata": {
    "deletable": false,
    "editable": false
   },
   "source": [
    "### Response 2: Tests are Partially Correct\n",
    "\n",
    "We will use `y22` for this problem\n",
    "\n",
    "| Test code    | Expected result | Actual result | Type                      |\n",
    "| -------      | -------         | -------         | --------                  |\n",
    "| `'a' in y22` | `True`          | `True`          |  Private (hidden from you)   |\n",
    "| `'b' in y22` | `True`          | `False`         |  Private (hidden from you)   |\n",
    "\n",
    "<!--\n",
    "BEGIN QUESTION\n",
    "name: q22\n",
    "manual: false\n",
    "points: 3\n",
    "-->"
   ]
  },
  {
   "cell_type": "code",
   "execution_count": 51,
   "metadata": {},
   "outputs": [],
   "source": [
    "y22 = list('a') # student response"
   ]
  },
  {
   "cell_type": "code",
   "execution_count": 52,
   "metadata": {
    "deletable": false,
    "editable": false
   },
   "outputs": [
    {
     "data": {
      "text/html": [
       "\n",
       "    <p><strong>q22</strong> passed!</p>\n",
       "    "
      ],
      "text/plain": [
       "q22 passed!"
      ]
     },
     "execution_count": 52,
     "metadata": {},
     "output_type": "execute_result"
    }
   ],
   "source": [
    "grader.check(\"q22\")"
   ]
  },
  {
   "cell_type": "markdown",
   "metadata": {},
   "source": [
    "## Example Question 3: Mixed Tests\n",
    "\n",
    "To make things simple, suppose the correct response to a question is this list\n",
    "> `y = list('abcd')`\n",
    "\n",
    "Suppose following are the tests\n",
    "\n",
    "| Test code  | Expected result | Type                      |\n",
    "| -------    | -------         | --------                  |\n",
    "| `'a' in y` | `True`          | Public (visible to you)   |\n",
    "| `'b' in y` | `True`          | Public (visible to you)   |\n",
    "| `'c' in y` | `True`          | Private (hidden from you) |\n",
    "| `'d' in y` | `True`          | Private (hidden from you) |\n",
    "\n",
    "The public and private tests will make up 0.7 and 0.3, respectively. Therefore,\n",
    "\n",
    "* If both public tests are correct, you earn $ 0.7 \\times 2 = 1.4 $ points and zero otherwise.\n",
    "* If both private tests are correct, you earn $ 0.3 \\times 2 = 0.6 $ points and zero otherwise.\n",
    "\n",
    "Gradescope output will show proportion of points you have earned with public tests only. The hidden \n",
    "\n",
    "1. Passes all three tests  \n",
    "    Notebook: 'All tests passed!'  \n",
    "    Gradescope (before grades are published): 0.7 $\\times$ 2 points = 1.4 points\n",
    "    Gradescope (after grades are published): 0.7 $\\times$ 2 points = 1.4 points\n",
    "\n"
   ]
  },
  {
   "cell_type": "markdown",
   "metadata": {
    "deletable": false,
    "editable": false
   },
   "source": [
    "### Response 1: All Tests are Correct\n",
    "\n",
    "We will use variable `y31`.\n",
    "\n",
    "| Test code  | Expected result | Actual result | Type                      |\n",
    "| -------    | -------         | -------         | --------                  |\n",
    "| `'a' in y31` | `True`          | `True`          | Public (visible to you)   |\n",
    "| `'b' in y31` | `True`          | `True`          | Public (visible to you)   |\n",
    "| `'c' in y31` | `True`          | `True`          | Private (hidden from you) |\n",
    "| `'d' in y31` | `True`          | `True`          | Private (hidden from you) |\n",
    "\n",
    "<!--\n",
    "BEGIN QUESTION\n",
    "name: q31\n",
    "manual: false\n",
    "points: 3\n",
    "-->"
   ]
  },
  {
   "cell_type": "code",
   "execution_count": 53,
   "metadata": {},
   "outputs": [],
   "source": [
    "y31 = list('abcd') # student response"
   ]
  },
  {
   "cell_type": "code",
   "execution_count": 54,
   "metadata": {
    "deletable": false,
    "editable": false
   },
   "outputs": [
    {
     "data": {
      "text/html": [
       "\n",
       "    <p><strong>q31</strong> passed!</p>\n",
       "    "
      ],
      "text/plain": [
       "q31 passed!"
      ]
     },
     "execution_count": 54,
     "metadata": {},
     "output_type": "execute_result"
    }
   ],
   "source": [
    "grader.check(\"q31\")"
   ]
  },
  {
   "cell_type": "markdown",
   "metadata": {
    "deletable": false,
    "editable": false
   },
   "source": [
    "### Response 2: Only Public Tests are Partially Correct \n",
    "\n",
    "| Test code  | Expected result | Actual result | Type                      |\n",
    "| -------    | -------         | -------         | --------                  |\n",
    "| `'a' in y32` | `True`          | `True`          | Public (visible to you)   |\n",
    "| `'b' in y32` | `True`          | `False`          | Public (visible to you)   |\n",
    "| `'c' in y32` | `True`          | `False`          | Private (hidden from you) |\n",
    "| `'d' in y32` | `True`          | `False`          | Private (hidden from you) |\n",
    "\n",
    "<!--\n",
    "BEGIN QUESTION\n",
    "name: q32\n",
    "manual: false\n",
    "points: 3\n",
    "-->"
   ]
  },
  {
   "cell_type": "code",
   "execution_count": 55,
   "metadata": {},
   "outputs": [],
   "source": [
    "y32 = list('a') # student response"
   ]
  },
  {
   "cell_type": "code",
   "execution_count": 56,
   "metadata": {
    "deletable": false,
    "editable": false
   },
   "outputs": [
    {
     "data": {
      "text/html": [
       "\n",
       "    <p><strong style='color: red;'>q32</strong></p>\n",
       "    <p><strong>Test result:</strong></p>\n",
       "    \n",
       "        <p><em>q32 - 1</em>\n",
       "        \n",
       "            <pre>Test case passed!</pre>\n",
       "        \n",
       "        </p>\n",
       "    \n",
       "        <p><em>q32 - 2</em>\n",
       "        \n",
       "            <pre>Trying:\n",
       "    'b' in y32\n",
       "Expecting:\n",
       "    True\n",
       "**********************************************************************\n",
       "Line 1, in q32 1\n",
       "Failed example:\n",
       "    'b' in y32\n",
       "Expected:\n",
       "    True\n",
       "Got:\n",
       "    False\n",
       "</pre>\n",
       "        \n",
       "        </p>\n",
       "    \n",
       "    "
      ],
      "text/plain": [
       "q32 results:\n",
       "\n",
       "Trying:\n",
       "    'b' in y32\n",
       "Expecting:\n",
       "    True\n",
       "**********************************************************************\n",
       "Line 1, in q32 1\n",
       "Failed example:\n",
       "    'b' in y32\n",
       "Expected:\n",
       "    True\n",
       "Got:\n",
       "    False"
      ]
     },
     "execution_count": 56,
     "metadata": {},
     "output_type": "execute_result"
    }
   ],
   "source": [
    "grader.check(\"q32\")"
   ]
  },
  {
   "cell_type": "markdown",
   "metadata": {
    "deletable": false,
    "editable": false
   },
   "source": [
    "### Response 3: Only Public Tests are Fully Correct\n",
    "\n",
    "We will use variable `y33`.\n",
    "\n",
    "| Test code  | Expected result | Actual result | Type                      |\n",
    "| -------    | -------         | -------         | --------                  |\n",
    "| `'a' in y33` | `True`          | `True`          | Public (visible to you)   |\n",
    "| `'b' in y33` | `True`          | `True`          | Public (visible to you)   |\n",
    "| `'c' in y33` | `True`          | `False`          | Private (hidden from you) |\n",
    "| `'d' in y33` | `True`          | `False`          | Private (hidden from you) |\n",
    "\n",
    "<!--\n",
    "BEGIN QUESTION\n",
    "name: q33\n",
    "manual: false\n",
    "points: 3\n",
    "-->"
   ]
  },
  {
   "cell_type": "code",
   "execution_count": 57,
   "metadata": {},
   "outputs": [],
   "source": [
    "y33 = list('ab') # student response"
   ]
  },
  {
   "cell_type": "code",
   "execution_count": 58,
   "metadata": {
    "deletable": false,
    "editable": false
   },
   "outputs": [
    {
     "data": {
      "text/html": [
       "\n",
       "    <p><strong>q33</strong> passed!</p>\n",
       "    "
      ],
      "text/plain": [
       "q33 passed!"
      ]
     },
     "execution_count": 58,
     "metadata": {},
     "output_type": "execute_result"
    }
   ],
   "source": [
    "grader.check(\"q33\")"
   ]
  },
  {
   "cell_type": "markdown",
   "metadata": {
    "deletable": false,
    "editable": false
   },
   "source": [
    "### Response 4: Only Private Tests are Fully Correct\n",
    "\n",
    "We will use variable `y34`.\n",
    "\n",
    "| Test code  | Expected result | Actual result | Type                      |\n",
    "| -------    | -------         | -------         | --------                  |\n",
    "| `'a' in y34` | `True`          | `False`          | Public (visible to you)   |\n",
    "| `'b' in y34` | `True`          | `False`          | Public (visible to you)   |\n",
    "| `'c' in y34` | `True`          | `True`          | Private (hidden from you) |\n",
    "| `'d' in y34` | `True`          | `True`          | Private (hidden from you) |\n",
    "\n",
    "<!--\n",
    "BEGIN QUESTION\n",
    "name: q34\n",
    "manual: false\n",
    "points: 3\n",
    "-->"
   ]
  },
  {
   "cell_type": "code",
   "execution_count": 59,
   "metadata": {},
   "outputs": [],
   "source": [
    "y34 = list('cd') # student response"
   ]
  },
  {
   "cell_type": "code",
   "execution_count": 60,
   "metadata": {
    "deletable": false,
    "editable": false
   },
   "outputs": [
    {
     "data": {
      "text/html": [
       "\n",
       "    <p><strong style='color: red;'>q34</strong></p>\n",
       "    <p><strong>Test result:</strong></p>\n",
       "    \n",
       "        <p><em>q34 - 1</em>\n",
       "        \n",
       "            <pre>Trying:\n",
       "    'a' in y34\n",
       "Expecting:\n",
       "    True\n",
       "**********************************************************************\n",
       "Line 1, in q34 0\n",
       "Failed example:\n",
       "    'a' in y34\n",
       "Expected:\n",
       "    True\n",
       "Got:\n",
       "    False\n",
       "</pre>\n",
       "        \n",
       "        </p>\n",
       "    \n",
       "        <p><em>q34 - 2</em>\n",
       "        \n",
       "            <pre>Trying:\n",
       "    'b' in y34\n",
       "Expecting:\n",
       "    True\n",
       "**********************************************************************\n",
       "Line 1, in q34 1\n",
       "Failed example:\n",
       "    'b' in y34\n",
       "Expected:\n",
       "    True\n",
       "Got:\n",
       "    False\n",
       "</pre>\n",
       "        \n",
       "        </p>\n",
       "    \n",
       "    "
      ],
      "text/plain": [
       "q34 results:\n",
       "\n",
       "Trying:\n",
       "    'a' in y34\n",
       "Expecting:\n",
       "    True\n",
       "**********************************************************************\n",
       "Line 1, in q34 0\n",
       "Failed example:\n",
       "    'a' in y34\n",
       "Expected:\n",
       "    True\n",
       "Got:\n",
       "    False\n",
       "\n",
       "Trying:\n",
       "    'b' in y34\n",
       "Expecting:\n",
       "    True\n",
       "**********************************************************************\n",
       "Line 1, in q34 1\n",
       "Failed example:\n",
       "    'b' in y34\n",
       "Expected:\n",
       "    True\n",
       "Got:\n",
       "    False"
      ]
     },
     "execution_count": 60,
     "metadata": {},
     "output_type": "execute_result"
    }
   ],
   "source": [
    "grader.check(\"q34\")"
   ]
  },
  {
   "cell_type": "markdown",
   "metadata": {
    "deletable": false,
    "editable": false
   },
   "source": [
    "---\n",
    "\n",
    "To double-check your work, the cell below will rerun all of the autograder tests."
   ]
  },
  {
   "cell_type": "code",
   "execution_count": 61,
   "metadata": {
    "deletable": false,
    "editable": false
   },
   "outputs": [
    {
     "data": {
      "text/html": [
       "\n",
       "    <p><strong>q11</strong> passed!</p>\n",
       "    \n",
       "\n",
       "\n",
       "    <p><strong style='color: red;'>q12</strong></p>\n",
       "    <p><strong>Test result:</strong></p>\n",
       "    \n",
       "        <p><em>q12 - 1</em>\n",
       "        \n",
       "            <pre>Test case passed!</pre>\n",
       "        \n",
       "        </p>\n",
       "    \n",
       "        <p><em>q12 - 2</em>\n",
       "        \n",
       "            <pre>Trying:\n",
       "    'b' in y12\n",
       "Expecting:\n",
       "    True\n",
       "**********************************************************************\n",
       "Line 1, in q12 1\n",
       "Failed example:\n",
       "    'b' in y12\n",
       "Expected:\n",
       "    True\n",
       "Got:\n",
       "    False\n",
       "</pre>\n",
       "        \n",
       "        </p>\n",
       "    \n",
       "    \n",
       "\n",
       "\n",
       "    <p><strong>q21</strong> passed!</p>\n",
       "    \n",
       "\n",
       "\n",
       "    <p><strong>q22</strong> passed!</p>\n",
       "    \n",
       "\n",
       "\n",
       "    <p><strong>q31</strong> passed!</p>\n",
       "    \n",
       "\n",
       "\n",
       "    <p><strong style='color: red;'>q32</strong></p>\n",
       "    <p><strong>Test result:</strong></p>\n",
       "    \n",
       "        <p><em>q32 - 1</em>\n",
       "        \n",
       "            <pre>Test case passed!</pre>\n",
       "        \n",
       "        </p>\n",
       "    \n",
       "        <p><em>q32 - 2</em>\n",
       "        \n",
       "            <pre>Trying:\n",
       "    'b' in y32\n",
       "Expecting:\n",
       "    True\n",
       "**********************************************************************\n",
       "Line 1, in q32 1\n",
       "Failed example:\n",
       "    'b' in y32\n",
       "Expected:\n",
       "    True\n",
       "Got:\n",
       "    False\n",
       "</pre>\n",
       "        \n",
       "        </p>\n",
       "    \n",
       "    \n",
       "\n",
       "\n",
       "    <p><strong>q33</strong> passed!</p>\n",
       "    \n",
       "\n",
       "\n",
       "    <p><strong style='color: red;'>q34</strong></p>\n",
       "    <p><strong>Test result:</strong></p>\n",
       "    \n",
       "        <p><em>q34 - 1</em>\n",
       "        \n",
       "            <pre>Trying:\n",
       "    'a' in y34\n",
       "Expecting:\n",
       "    True\n",
       "**********************************************************************\n",
       "Line 1, in q34 0\n",
       "Failed example:\n",
       "    'a' in y34\n",
       "Expected:\n",
       "    True\n",
       "Got:\n",
       "    False\n",
       "</pre>\n",
       "        \n",
       "        </p>\n",
       "    \n",
       "        <p><em>q34 - 2</em>\n",
       "        \n",
       "            <pre>Trying:\n",
       "    'b' in y34\n",
       "Expecting:\n",
       "    True\n",
       "**********************************************************************\n",
       "Line 1, in q34 1\n",
       "Failed example:\n",
       "    'b' in y34\n",
       "Expected:\n",
       "    True\n",
       "Got:\n",
       "    False\n",
       "</pre>\n",
       "        \n",
       "        </p>\n",
       "    \n",
       "    \n",
       "\n"
      ],
      "text/plain": [
       "q11 passed!\n",
       "\n",
       "q12 results:\n",
       "\n",
       "Trying:\n",
       "    'b' in y12\n",
       "Expecting:\n",
       "    True\n",
       "**********************************************************************\n",
       "Line 1, in q12 1\n",
       "Failed example:\n",
       "    'b' in y12\n",
       "Expected:\n",
       "    True\n",
       "Got:\n",
       "    False\n",
       "\n",
       "\n",
       "q21 passed!\n",
       "\n",
       "q22 passed!\n",
       "\n",
       "q31 passed!\n",
       "\n",
       "q32 results:\n",
       "\n",
       "Trying:\n",
       "    'b' in y32\n",
       "Expecting:\n",
       "    True\n",
       "**********************************************************************\n",
       "Line 1, in q32 1\n",
       "Failed example:\n",
       "    'b' in y32\n",
       "Expected:\n",
       "    True\n",
       "Got:\n",
       "    False\n",
       "\n",
       "\n",
       "q33 passed!\n",
       "\n",
       "q34 results:\n",
       "\n",
       "Trying:\n",
       "    'a' in y34\n",
       "Expecting:\n",
       "    True\n",
       "**********************************************************************\n",
       "Line 1, in q34 0\n",
       "Failed example:\n",
       "    'a' in y34\n",
       "Expected:\n",
       "    True\n",
       "Got:\n",
       "    False\n",
       "\n",
       "Trying:\n",
       "    'b' in y34\n",
       "Expecting:\n",
       "    True\n",
       "**********************************************************************\n",
       "Line 1, in q34 1\n",
       "Failed example:\n",
       "    'b' in y34\n",
       "Expected:\n",
       "    True\n",
       "Got:\n",
       "    False\n",
       "\n"
      ]
     },
     "execution_count": 61,
     "metadata": {},
     "output_type": "execute_result"
    }
   ],
   "source": [
    "grader.check_all()"
   ]
  },
  {
   "cell_type": "markdown",
   "metadata": {
    "deletable": false,
    "editable": false
   },
   "source": [
    "## Submission\n",
    "\n",
    "Make sure you have run all cells in your notebook in order before running the cell below, so that all images/graphs appear in the output. The cell below will generate a zip file for you to submit. **Please save before exporting!**"
   ]
  },
  {
   "cell_type": "code",
   "execution_count": 62,
   "metadata": {
    "deletable": false,
    "editable": false
   },
   "outputs": [
    {
     "name": "stderr",
     "output_type": "stream",
     "text": [
      "ERROR:root:Internal Python error in the inspect module.\n",
      "Below is the traceback from this internal error.\n",
      "\n"
     ]
    },
    {
     "name": "stdout",
     "output_type": "stream",
     "text": [
      "Traceback (most recent call last):\n",
      "  File \"/opt/conda/lib/python3.7/site-packages/IPython/core/interactiveshell.py\", line 3319, in run_code\n",
      "    exec(code_obj, self.user_global_ns, self.user_ns)\n",
      "  File \"<ipython-input-62-f87f3c26df9f>\", line 2, in <module>\n",
      "    grader.export()\n",
      "  File \"/opt/conda/lib/python3.7/site-packages/otter/check/notebook.py\", line 438, in export\n",
      "    raise e\n",
      "  File \"/opt/conda/lib/python3.7/site-packages/otter/check/notebook.py\", line 403, in export\n",
      "    zf = zipfile.ZipFile(zip_path, mode=\"w\")\n",
      "  File \"/opt/conda/lib/python3.7/zipfile.py\", line 1204, in __init__\n",
      "    self.fp = io.open(file, filemode)\n",
      "FileNotFoundError: [Errno 2] No such file or directory: 'lab0.zip'\n",
      "\n",
      "During handling of the above exception, another exception occurred:\n",
      "\n",
      "Traceback (most recent call last):\n",
      "  File \"/opt/conda/lib/python3.7/site-packages/IPython/core/interactiveshell.py\", line 2034, in showtraceback\n",
      "    stb = value._render_traceback_()\n",
      "AttributeError: 'FileNotFoundError' object has no attribute '_render_traceback_'\n",
      "\n",
      "During handling of the above exception, another exception occurred:\n",
      "\n",
      "Traceback (most recent call last):\n",
      "  File \"/opt/conda/lib/python3.7/site-packages/IPython/core/ultratb.py\", line 1101, in get_records\n",
      "    return _fixed_getinnerframes(etb, number_of_lines_of_context, tb_offset)\n",
      "  File \"/opt/conda/lib/python3.7/site-packages/IPython/core/ultratb.py\", line 319, in wrapped\n",
      "    return f(*args, **kwargs)\n",
      "  File \"/opt/conda/lib/python3.7/site-packages/IPython/core/ultratb.py\", line 353, in _fixed_getinnerframes\n",
      "    records = fix_frame_records_filenames(inspect.getinnerframes(etb, context))\n",
      "  File \"/opt/conda/lib/python3.7/inspect.py\", line 1502, in getinnerframes\n",
      "    frameinfo = (tb.tb_frame,) + getframeinfo(tb, context)\n",
      "  File \"/opt/conda/lib/python3.7/inspect.py\", line 1460, in getframeinfo\n",
      "    filename = getsourcefile(frame) or getfile(frame)\n",
      "  File \"/opt/conda/lib/python3.7/inspect.py\", line 696, in getsourcefile\n",
      "    if getattr(getmodule(object, filename), '__loader__', None) is not None:\n",
      "  File \"/opt/conda/lib/python3.7/inspect.py\", line 725, in getmodule\n",
      "    file = getabsfile(object, _filename)\n",
      "  File \"/opt/conda/lib/python3.7/inspect.py\", line 709, in getabsfile\n",
      "    return os.path.normcase(os.path.abspath(_filename))\n",
      "  File \"/opt/conda/lib/python3.7/posixpath.py\", line 383, in abspath\n",
      "    cwd = os.getcwd()\n",
      "FileNotFoundError: [Errno 2] No such file or directory\n"
     ]
    },
    {
     "ename": "FileNotFoundError",
     "evalue": "[Errno 2] No such file or directory: 'lab0.zip'",
     "output_type": "error",
     "traceback": [
      "\u001b[0;31m---------------------------------------------------------------------------\u001b[0m"
     ]
    }
   ],
   "source": [
    "# Save your notebook first, then run this cell to export your submission.\n",
    "grader.export()"
   ]
  },
  {
   "cell_type": "markdown",
   "metadata": {},
   "source": [
    " "
   ]
  }
 ],
 "metadata": {
  "kernelspec": {
   "display_name": "Python 3",
   "language": "python",
   "name": "python3"
  },
  "language_info": {
   "codemirror_mode": {
    "name": "ipython",
    "version": 3
   },
   "file_extension": ".py",
   "mimetype": "text/x-python",
   "name": "python",
   "nbconvert_exporter": "python",
   "pygments_lexer": "ipython3",
   "version": "3.7.3"
  },
  "varInspector": {
   "cols": {
    "lenName": 16,
    "lenType": 16,
    "lenVar": 40
   },
   "kernels_config": {
    "python": {
     "delete_cmd_postfix": "",
     "delete_cmd_prefix": "del ",
     "library": "var_list.py",
     "varRefreshCmd": "print(var_dic_list())"
    },
    "r": {
     "delete_cmd_postfix": ") ",
     "delete_cmd_prefix": "rm(",
     "library": "var_list.r",
     "varRefreshCmd": "cat(var_dic_list()) "
    }
   },
   "types_to_exclude": [
    "module",
    "function",
    "builtin_function_or_method",
    "instance",
    "_Feature"
   ],
   "window_display": false
  }
 },
 "nbformat": 4,
 "nbformat_minor": 4
}
